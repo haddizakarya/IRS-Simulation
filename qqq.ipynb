{
  "nbformat": 4,
  "nbformat_minor": 0,
  "metadata": {
    "colab": {
      "provenance": [],
      "authorship_tag": "ABX9TyP3TysukvnZDXyC+ilw/utp",
      "include_colab_link": true
    },
    "kernelspec": {
      "name": "python3",
      "display_name": "Python 3"
    },
    "language_info": {
      "name": "python"
    }
  },
  "cells": [
    {
      "cell_type": "markdown",
      "metadata": {
        "id": "view-in-github",
        "colab_type": "text"
      },
      "source": [
        "<a href=\"https://colab.research.google.com/github/haddizakarya/IRS-Simulation/blob/main/qqq.ipynb\" target=\"_parent\"><img src=\"https://colab.research.google.com/assets/colab-badge.svg\" alt=\"Open In Colab\"/></a>"
      ]
    },
    {
      "cell_type": "code",
      "execution_count": 9,
      "metadata": {
        "colab": {
          "base_uri": "https://localhost:8080/"
        },
        "id": "9iW2Q43Kl5eB",
        "outputId": "c9df92d1-43f3-4082-fd8f-dc5e5707fef7"
      },
      "outputs": [
        {
          "output_type": "stream",
          "name": "stdout",
          "text": [
            "Original Text: madam, in eden, I'm adam.\n",
            "Is Palindrome: True\n"
          ]
        }
      ],
      "source": [
        "import string\n",
        "\n",
        "def palindrome(text):\n",
        "    string = ''.join(a.lower() for a in text if a.isalnum())\n",
        "    return string == string[::-1]\n",
        "\n",
        "text = \"madam, in eden, I'm adam.\"\n",
        "print(\"Original Text:\", text)\n",
        "print(\"Is Palindrome:\", palindrome(text))"
      ]
    },
    {
      "cell_type": "code",
      "source": [
        "def count_vowels(text):\n",
        "    vowels = \"aeiouAEIOU\"\n",
        "    return sum(1 for a in text if a in vowels)\n",
        "print(\"Number of Vowels:\", count_vowels(text))"
      ],
      "metadata": {
        "colab": {
          "base_uri": "https://localhost:8080/"
        },
        "id": "kO2t0jrQmD_O",
        "outputId": "25822081-32a6-48ac-8983-12f8b308b34b"
      },
      "execution_count": 10,
      "outputs": [
        {
          "output_type": "stream",
          "name": "stdout",
          "text": [
            "Number of Vowels: 8\n"
          ]
        }
      ]
    },
    {
      "cell_type": "code",
      "source": [
        "def reverse_text(text):\n",
        "    return text[::-1]\n",
        "print(\"Reversed Text:\", reverse_text(text))"
      ],
      "metadata": {
        "colab": {
          "base_uri": "https://localhost:8080/"
        },
        "id": "jqC4zdXsmFtH",
        "outputId": "bf86bbde-3031-4afe-eed3-9827339e0064"
      },
      "execution_count": 11,
      "outputs": [
        {
          "output_type": "stream",
          "name": "stdout",
          "text": [
            "Reversed Text: .mada m'I ,nede ni ,madam\n"
          ]
        }
      ]
    },
    {
      "cell_type": "code",
      "source": [
        "def remove_punctuation(text):\n",
        "    return text.translate(str.maketrans('', '', string.punctuation))\n",
        "print(\"Text without Punctuation:\", remove_punctuation(text))"
      ],
      "metadata": {
        "colab": {
          "base_uri": "https://localhost:8080/"
        },
        "id": "-vUAxh7MmHQJ",
        "outputId": "4740842a-ab0f-4cc6-8cf5-4ab29663d14e"
      },
      "execution_count": 12,
      "outputs": [
        {
          "output_type": "stream",
          "name": "stdout",
          "text": [
            "Text without Punctuation: madam in eden Im adam\n"
          ]
        }
      ]
    },
    {
      "cell_type": "code",
      "source": [
        "def capitalize_words(text):\n",
        "    return ' '.join(word.capitalize() for word in text.split())\n",
        "print(\"Capitalized Words:\", capitalize_words(text))"
      ],
      "metadata": {
        "colab": {
          "base_uri": "https://localhost:8080/"
        },
        "id": "XKNbrqEJmJP8",
        "outputId": "ce073da3-3b41-4a83-b844-6ff3739cd053"
      },
      "execution_count": 13,
      "outputs": [
        {
          "output_type": "stream",
          "name": "stdout",
          "text": [
            "Capitalized Words: Madam, In Eden, I'm Adam.\n"
          ]
        }
      ]
    },
    {
      "cell_type": "code",
      "source": [
        "def count_words(text):\n",
        "    words = text.split()\n",
        "    return len(words)\n",
        "print(\"Number of Words:\", count_words(text))"
      ],
      "metadata": {
        "colab": {
          "base_uri": "https://localhost:8080/"
        },
        "id": "w-6WtJuymKwD",
        "outputId": "c58c9f27-18a4-4f90-8b29-d86be50a8992"
      },
      "execution_count": 14,
      "outputs": [
        {
          "output_type": "stream",
          "name": "stdout",
          "text": [
            "Number of Words: 5\n"
          ]
        }
      ]
    },
    {
      "cell_type": "code",
      "source": [
        "def unique_words(text):\n",
        "    words = text.lower().split()\n",
        "    return set(words)\n",
        "print(\"Unique Words:\", unique_words(text))"
      ],
      "metadata": {
        "colab": {
          "base_uri": "https://localhost:8080/"
        },
        "id": "aJxOcKV6mMYB",
        "outputId": "1251d25e-333b-4bbd-d21b-b07e97074fba"
      },
      "execution_count": 15,
      "outputs": [
        {
          "output_type": "stream",
          "name": "stdout",
          "text": [
            "Unique Words: {'in', \"i'm\", 'eden,', 'madam,', 'adam.'}\n"
          ]
        }
      ]
    }
  ]
}